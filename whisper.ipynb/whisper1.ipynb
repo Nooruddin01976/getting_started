{
 "cells": [
  {
   "attachments": {},
   "cell_type": "markdown",
   "metadata": {},
   "source": [
    "# Installation"
   ]
  },
  {
   "cell_type": "code",
   "execution_count": 9,
   "metadata": {},
   "outputs": [
    {
     "name": "stdout",
     "output_type": "stream",
     "text": [
      "Defaulting to user installation because normal site-packages is not writeable\n",
      "Collecting setuptools-rust\n",
      "  Downloading setuptools_rust-1.6.0-py3-none-any.whl (23 kB)\n",
      "Requirement already satisfied: setuptools>=62.4 in c:\\program files\\python311\\lib\\site-packages (from setuptools-rust) (65.5.0)\n",
      "Collecting semantic-version<3,>=2.8.2 (from setuptools-rust)\n",
      "  Downloading semantic_version-2.10.0-py2.py3-none-any.whl (15 kB)\n",
      "Requirement already satisfied: typing-extensions>=3.7.4.3 in c:\\users\\gms\\appdata\\roaming\\python\\python311\\site-packages (from setuptools-rust) (4.5.0)\n",
      "Installing collected packages: semantic-version, setuptools-rust\n",
      "Successfully installed semantic-version-2.10.0 setuptools-rust-1.6.0\n",
      "Note: you may need to restart the kernel to use updated packages.\n",
      "Defaulting to user installation because normal site-packages is not writeable\n",
      "Collecting git+https://github.com/openai/whisper.\n",
      "  Cloning https://github.com/openai/whisper. to c:\\users\\gms\\appdata\\local\\temp\\pip-req-build-0ouewt62\n",
      "Note: you may need to restart the kernel to use updated packages.\n"
     ]
    },
    {
     "name": "stderr",
     "output_type": "stream",
     "text": [
      "  Running command git clone --filter=blob:none --quiet https://github.com/openai/whisper. 'C:\\Users\\GMS\\AppData\\Local\\Temp\\pip-req-build-0ouewt62'\n",
      "  remote: Repository not found.\n",
      "  fatal: repository 'https://github.com/openai/whisper./' not found\n",
      "  error: subprocess-exited-with-error\n",
      "  \n",
      "  × git clone --filter=blob:none --quiet https://github.com/openai/whisper. 'C:\\Users\\GMS\\AppData\\Local\\Temp\\pip-req-build-0ouewt62' did not run successfully.\n",
      "  │ exit code: 128\n",
      "  ╰─> See above for output.\n",
      "  \n",
      "  note: This error originates from a subprocess, and is likely not a problem with pip.\n",
      "error: subprocess-exited-with-error\n",
      "\n",
      "× git clone --filter=blob:none --quiet https://github.com/openai/whisper. 'C:\\Users\\GMS\\AppData\\Local\\Temp\\pip-req-build-0ouewt62' did not run successfully.\n",
      "│ exit code: 128\n",
      "╰─> See above for output.\n",
      "\n",
      "note: This error originates from a subprocess, and is likely not a problem with pip.\n"
     ]
    },
    {
     "name": "stdout",
     "output_type": "stream",
     "text": [
      "Defaulting to user installation because normal site-packages is not writeable\n",
      "Requirement already satisfied: openai in c:\\users\\gms\\appdata\\roaming\\python\\python311\\site-packages (0.27.6)\n",
      "Requirement already satisfied: requests>=2.20 in c:\\users\\gms\\appdata\\roaming\\python\\python311\\site-packages (from openai) (2.28.2)\n",
      "Requirement already satisfied: tqdm in c:\\users\\gms\\appdata\\roaming\\python\\python311\\site-packages (from openai) (4.65.0)\n",
      "Requirement already satisfied: aiohttp in c:\\users\\gms\\appdata\\roaming\\python\\python311\\site-packages (from openai) (3.8.4)\n",
      "Requirement already satisfied: charset-normalizer<4,>=2 in c:\\users\\gms\\appdata\\roaming\\python\\python311\\site-packages (from requests>=2.20->openai) (3.1.0)\n",
      "Requirement already satisfied: idna<4,>=2.5 in c:\\users\\gms\\appdata\\roaming\\python\\python311\\site-packages (from requests>=2.20->openai) (3.4)\n",
      "Requirement already satisfied: urllib3<1.27,>=1.21.1 in c:\\users\\gms\\appdata\\roaming\\python\\python311\\site-packages (from requests>=2.20->openai) (1.26.15)\n",
      "Requirement already satisfied: certifi>=2017.4.17 in c:\\users\\gms\\appdata\\roaming\\python\\python311\\site-packages (from requests>=2.20->openai) (2022.12.7)\n",
      "Requirement already satisfied: attrs>=17.3.0 in c:\\users\\gms\\appdata\\roaming\\python\\python311\\site-packages (from aiohttp->openai) (22.2.0)\n",
      "Requirement already satisfied: multidict<7.0,>=4.5 in c:\\users\\gms\\appdata\\roaming\\python\\python311\\site-packages (from aiohttp->openai) (6.0.4)\n",
      "Requirement already satisfied: async-timeout<5.0,>=4.0.0a3 in c:\\users\\gms\\appdata\\roaming\\python\\python311\\site-packages (from aiohttp->openai) (4.0.2)\n",
      "Requirement already satisfied: yarl<2.0,>=1.0 in c:\\users\\gms\\appdata\\roaming\\python\\python311\\site-packages (from aiohttp->openai) (1.9.2)\n",
      "Requirement already satisfied: frozenlist>=1.1.1 in c:\\users\\gms\\appdata\\roaming\\python\\python311\\site-packages (from aiohttp->openai) (1.3.3)\n",
      "Requirement already satisfied: aiosignal>=1.1.2 in c:\\users\\gms\\appdata\\roaming\\python\\python311\\site-packages (from aiohttp->openai) (1.3.1)\n",
      "Requirement already satisfied: colorama in c:\\users\\gms\\appdata\\roaming\\python\\python311\\site-packages (from tqdm->openai) (0.4.6)\n",
      "Note: you may need to restart the kernel to use updated packages.\n",
      "Defaulting to user installation because normal site-packages is not writeable\n",
      "Note: you may need to restart the kernel to use updated packages.\n"
     ]
    },
    {
     "name": "stderr",
     "output_type": "stream",
     "text": [
      "ERROR: Could not find a version that satisfies the requirement os (from versions: none)\n",
      "ERROR: No matching distribution found for os\n"
     ]
    },
    {
     "name": "stdout",
     "output_type": "stream",
     "text": [
      "Defaulting to user installation because normal site-packages is not writeable\n",
      "Collecting pydub\n",
      "  Downloading pydub-0.25.1-py2.py3-none-any.whl (32 kB)\n",
      "Installing collected packages: pydub\n",
      "Successfully installed pydub-0.25.1\n",
      "Note: you may need to restart the kernel to use updated packages.\n"
     ]
    }
   ],
   "source": [
    "%pip install setuptools-rust\n",
    "%pip install git+https://github.com/openai/whisper.\n",
    "%pip install openai\n",
    "%pip install os\n",
    "%pip install pydub"
   ]
  },
  {
   "attachments": {},
   "cell_type": "markdown",
   "metadata": {},
   "source": [
    "* The speech to text API provides two endpoints, transcriptions and translations, based on our state-of-the-art open source large-v2 Whisper model. They can be used to:\n",
    "\n",
    "Transcribe audio into whatever language the audio is in.\n",
    "Translate and transcribe the audio into english.\n",
    "File uploads are currently limited to 25 MB and the following input file types are supported: mp3, mp4, mpeg, mpga, m4a, wav, and webm."
   ]
  },
  {
   "attachments": {},
   "cell_type": "markdown",
   "metadata": {},
   "source": [
    "# import and rin program"
   ]
  },
  {
   "cell_type": "code",
   "execution_count": 3,
   "metadata": {},
   "outputs": [
    {
     "name": "stdout",
     "output_type": "stream",
     "text": [
      "{\n",
      "  \"text\": \"Listen, read, repeat. I have my green card and I want to work. I will call one company. It is a small company. It is not a long way from my home. I think it is a nice place to work. I have the phone number. I will call today and ask about work. Work is a very important thing to find.\"\n",
      "}\n"
     ]
    }
   ],
   "source": [
    "\n",
    "import openai\n",
    "import os\n",
    "openai.api_key = os.environ.get(\"API_KEY\")\n",
    "\n",
    "audio_file= open(\"C:\\\\Users\\\\GMS\\\\Downloads\\\\i-want-to-work-2.mp3\", \"rb\")\n",
    "transcript = openai.Audio.transcribe(\"whisper-1\", audio_file)\n",
    "print(transcript)"
   ]
  },
  {
   "attachments": {},
   "cell_type": "markdown",
   "metadata": {},
   "source": [
    "* you can download a sample audio file from the link https://123bien.com/basic-english/"
   ]
  },
  {
   "attachments": {},
   "cell_type": "markdown",
   "metadata": {},
   "source": [
    "# Translations"
   ]
  },
  {
   "cell_type": "code",
   "execution_count": 7,
   "metadata": {},
   "outputs": [
    {
     "name": "stdout",
     "output_type": "stream",
     "text": [
      "{\n",
      "  \"text\": \"Om Sri Ganeshaye Namaha Namaskar my dear friends this is me Anil you know already from YouTube the Hindi guy the guy from your next door anyways so I just started a new series of learning Hindi and the name will be called you can download you can watch this all audio clips and video clips also but but there will be only audio clips okay named learn Hindi on the way so sounds very commercial my friend Gustavo said that hey it sounds very commercial anyways so the purpose of this video clip audio clips will be people are so busy these days really they are so busy but what I know what I believe that almost all of my friends are having one cell phone right and and some air birds so you can download my audio clips and then put it on your cell phone and listen when you're busy when you're doing something you know let's say you're traveling to a job and let's say it takes half an hour or one hour to reach there so you can listen me on those time and you can learn some Hindi there and some you know some Hindu Hindu culture Indian culture and so many things so I'm gonna talk many many things on this audio clips alright so you're going to learn these things you're gonna have this audio clips on my website called anilmahato.com and there will be a download section or somewhere like audio clip somewhere you'll get it alright just just visit the web page called anilmahato.com alright and this is a very very first audio clip so I'm a little bit maybe nervous because this is my first audio clip yeah and well I'm going to start with the phrase that I I told like three word I used Sri Ganesh Nama alright so what does that mean then Sri Ganesh Nama is a very very holy words that we always use to start any good things you know if you want to get anything successful any campaign any work successful then always first time you have to start with this word Sri Ganesh Nama it is it is called good luck for everything you know well this is our beliefs so that's why I started with Sri Ganesh Nama alright so now that this is the first lesson and I want to talk about greetings today alright again so many people you might have already watched my Namaste video you know that video but again I'm going to start and I'm going to talk something new here also alright so the first one greetings well there are so many methods of greeting people right so I have categorized them into time-based greeting and all-time greetings alright which is most used time-based greetings are little less used than all-time greetings alright so in time-based greetings let's say you want to say good morning so to say good morning in Hindi you have to say Subha Pravath Subha Pravath say it with me okay speak with me Subha Pravath Subha Pravath so Subha means something good right something good luck type of you know very good something like that and Pravath means morning so Subha Pravath Pravath means morning so Subha Pravath means good morning okay once again Subha Pravath Subha Pravath Anil Subha Pravath Dadaji means grandpa Subha Pravath Mummizi Subha Pravath Meri Dost like good morning my friend like that Subha Pravath Meri Dost but don't be excited like me I think I'm speaking faster I get that complaint always I'm sorry anyway so it's Subha Pravath Meri Dost alright Subha Pravath now let's go to the good day so if you want to say have a good day or simply good day you know then I'm telling you first just to say good day if you want to say good day in Hindi then you have to say again Subha Subha is for everything good you know always you'll be using this Subha Din Subha Din Subha Din Din but when you try to speak a little faster Subha Din Subha Din Meri Dost Subha Din Meri Dost good day my friend like that right now good noon alright good noon we say Subha Apranha Subha Apranha Apranha means afternoon exact noon actually so you can say Subha Apranha alright good noon and now good evening alright so you can predict now yourself good is Subha and evening is Sandhya so Subha Sandhya Subha Sandhya Meri Dost Subha Sandhya Lalita Ji Subha Sandhya Alisa Ji Subha Sandhya Aima alright so Subha Sandhya now let's go to the good night yes this is what we use a lot I mean this like good morning good good day good noon good evening these are little used less very rare by the way these days I don't get those in my in my ear so much but good night I hear so often so good night in Hindi again same good that is Subha and night is called Raatri well now you might be asking Anil I have heard that night is called Raat you're right my friend but Raatri sounds classic so you gotta have to say Subha Raatri okay alright so you have to say Subha Raatri Subha Raatri is the very very formal and very nice you have to say this don't say Subha Raat okay it sounds so weird so you have to say Subha Raatri alright my friend Subha Raatri Subha Raatri Meri Dost Subha Raatri Mr. Malhotra Subha Raatri Mr. Anil Subha Raatri Miss Pooja something like that right so these were some kind of time-based greeting alright and one thing you can use this like have a good day my friend have a good day my friend is very much used in Hindi also just like have a good day but in have a good day in Hindi if you want to say then you have so many words I mean so many way basically two phrases I'm going to tell you here Aapka Din Mangal Mai okay some people also say Ho Aapka Din Mangal Mai Ho that's both same right Aapka Din Mangal Mai Ho or you can say Aapka Din Mangal Mai Rahe okay so now Aapka Din means your day Aapka means your Din you already know that is called day Mangal Mai Mangal Mai means something very good you know very holy very pure something you know kind of Pavitra Pavitra it's like very clean I don't know how to say it's not exactly the word clean something like kind of spiritually good you know remember like that okay so Mangal Mai Rahe Rahe literally means to exist something you know but here Aapka Din Mangal Mai Rahe means have a good day right wish you a very good day like that Aapka Din Mangal Mai Rahe or you can say Aapka Din Subh Ho Aapka Din Shubh Ho again Shubh means good you know good but in a very nice way right kind of spiritual type of holy type of you know so Shubh it's it's very good way good word all right so Aapka Din Shubh Ho or Aapka Din Shubh Rahe or you can say Aapka Din Mangal Mai Rahe or Aapka Din Mangal Mai Ho right so Aapka Din Mangal Mai Ho Aapka Din Shubh Ho you can say that whenever you are when some of your friend or anybody is living right you can take the name and then say Aapka Din Shubh Ho now I'm gonna tell you something called all-time greetings all the time there is only one word two words by the way you can use that word anytime doesn't matter what time you just use that whether you are coming or you're going you are meeting first time you're meeting second time a buddy is like the next person is stranger or you're you're just like you know it's like high time or by time doesn't matter no matter of gender no matter of time no matter of numbers respect it's always the best all right very simple Namaskar or you can say Namaste now Namaskar and Namaste has some spiritual meaning too but now these days Namaskar and Namaste has been a very very very very like normal just like hi and hello all right so it has got some spiritual meaning too all right which is very very deep you have to remember that it's it's it's very deep by the way it's like something I bow to you by greeting salutation or what do you say a prostration to you you know the word Nama like in the Namaskar you get Nama can literally be interpreted as like Na and then Ma like not mine you know it has a kind of you know spiritual significance of neglecting or reducing one's ego in the presence of another all right something like that it has got like very spiritual meaning like all right but but now I just want you to see I don't want you to get like deeper meaning but just let me let me tell you like this is just like hi and hello these days all right but yes it has got some deep meaning all right so you can use this Namaste when you're meeting and you can also say Namaste when you need to say bye in India right so we use this Namaskar when we meet Namaskar when we separate and Namaste and Namaskar has got not exactly like any difference there is no difference you can use whatever you want Namaskar or Namaste okay so I already made like I think it 10 minutes and something more right so this was our first audio clip I hope you learned something and I want your feedback seriously I want your feedback your suggestions your motivation your love your affection you care everything and and and your promotion too you're gonna help me promote my stuff and reach them to maximum people who wants to learn Hindi Hinduism they want to learn about Indian culture India Nepal Bangladesh you know these these countries Sri Lanka these these I mean the South Asian countries cultural things you know and and they wants to learn about Indian cookies you know I mean no not cookies Indian cooking things you know recipes travel you know because I'm very interested in traveling around the natural places more than artificial things you know so I love to travel around nature why I'm talking these things all right no I'm not talking this anything's all right so I just want to say this is our first audio clip and I hope you had a wonderful journey and we're gonna have a really long relationship and a very strong relationship in entire our life till my last breath oh my god that's so anyways my dear friends it was really nice talking to you and I'll see you into the next audio clip so if you want to download then again go to anilmahato.com let me let me let me go one by one a n i l m a h a t o.com and go there in the download section and you'll get it there right so namaskar and by the way if you want to say bye then the Hindi word for the bye is alvida right alvida okay but I don't want you to say alvida now because I'm gonna come again soon into the next audio clip right come again not that come again right I'm going to come see you again anyways I'm sorry I'm gonna meet you in the next video right till the time bye bye\"\n",
      "}\n"
     ]
    }
   ],
   "source": [
    "audio_file= open(\"C:\\\\Users\\\\GMS\\\\Downloads\\\\Learn Hindi Audio Lesson 1 - Greetings.mp3\", \"rb\")\n",
    "transcript = openai.Audio.translate(\"whisper-1\", audio_file)\n",
    "print(transcript)"
   ]
  },
  {
   "attachments": {},
   "cell_type": "markdown",
   "metadata": {},
   "source": [
    "* Supported languages\n",
    "We currently support the following languages through both the transcriptions and translations endpoint:\n",
    "\n",
    "Afrikaans, Arabic, Armenian, Azerbaijani, Belarusian, Bosnian, Bulgarian, Catalan, Chinese, Croatian, Czech, Danish, Dutch, English, Estonian, Finnish, French, Galician, German, Greek, Hebrew, Hindi, Hungarian, Icelandic, Indonesian, Italian, Japanese, Kannada, Kazakh, Korean, Latvian, Lithuanian, Macedonian, Malay, Marathi, Maori, Nepali, Norwegian, Persian, Polish, Portuguese, Romanian, Russian, Serbian, Slovak, Slovenian, Spanish, Swahili, Swedish, Tagalog, Tamil, Thai, Turkish, Ukrainian, Urdu, Vietnamese, and Welsh.\n",
    "\n",
    "While the underlying model was trained on 98 languages, we only list the languages that exceeded <50% word error rate (WER) which is an industry standard benchmark for speech to text model accuracy. The model will return results for languages not listed above but the quality will be low."
   ]
  },
  {
   "attachments": {},
   "cell_type": "markdown",
   "metadata": {},
   "source": [
    "# Longer inputs"
   ]
  },
  {
   "attachments": {},
   "cell_type": "markdown",
   "metadata": {},
   "source": [
    "* By default, the Whisper API only supports files that are less than 25 MB. If you have an audio file that is longer than that, you will need to break it up into chunks of 25 MB's or less or used a compressed audio format. To get the best performance, we suggest that you avoid breaking the audio up mid-sentence as this may cause some context to be lost.\n",
    "\n",
    "One way to handle this is to use the PyDub open source Python package to split the audio:"
   ]
  }
 ],
 "metadata": {
  "kernelspec": {
   "display_name": "Python 3",
   "language": "python",
   "name": "python3"
  },
  "language_info": {
   "codemirror_mode": {
    "name": "ipython",
    "version": 3
   },
   "file_extension": ".py",
   "mimetype": "text/x-python",
   "name": "python",
   "nbconvert_exporter": "python",
   "pygments_lexer": "ipython3",
   "version": "3.11.3"
  },
  "orig_nbformat": 4
 },
 "nbformat": 4,
 "nbformat_minor": 2
}
